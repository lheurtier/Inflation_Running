{
 "cells": [
  {
   "cell_type": "code",
   "execution_count": 5,
   "id": "51a3ef3f",
   "metadata": {},
   "outputs": [
    {
     "name": "stdout",
     "output_type": "stream",
     "text": [
      "init?\n"
     ]
    },
    {
     "data": {
      "text/plain": [
       "[5.0553761548349624e-11,\n",
       " 0.1459924208121537,\n",
       " 0.9632795390289033,\n",
       " -0.0006741961269649203,\n",
       " -1.8567594425309963e-05]"
      ]
     },
     "execution_count": 5,
     "metadata": {},
     "output_type": "execute_result"
    }
   ],
   "source": [
    "import Running as run\n",
    "\n",
    "def Vinf(phi, params):\n",
    "    mass = params[0]\n",
    "    return mass**2/2*phi**2\n",
    "\n",
    "def dVinf(phi, params):\n",
    "    mass = params[0]\n",
    "    return mass**2*phi\n",
    "\n",
    "def d2Vinf(phi, params):\n",
    "    mass = params[0]\n",
    "    return mass**2\n",
    "\n",
    "def d3Vinf(phi, params):\n",
    "    mass = params[0]\n",
    "    return 0\n",
    "\n",
    "def d4Vinf(phi, params):\n",
    "    mass = params[0]\n",
    "    return 0\n",
    "\n",
    "\n",
    "Inf_class = run.Running_V(\n",
    "                 Inflation_template=None, \n",
    "                 feature_template=None, \n",
    "                 Vi   = Vinf, \n",
    "                 dVi  = dVinf,\n",
    "                 d2Vi = d2Vinf,\n",
    "                 d3Vi = d3Vinf,\n",
    "                 d4Vi = d4Vinf, \n",
    "                 Ninf = 55, \n",
    "                 debug = False)\n",
    "\n",
    "MP = 1\n",
    "mass_test = 1e-6*MP\n",
    "\n",
    "Inf_class.find_running([mass_test], False)"
   ]
  }
 ],
 "metadata": {
  "kernelspec": {
   "display_name": "base",
   "language": "python",
   "name": "python3"
  },
  "language_info": {
   "codemirror_mode": {
    "name": "ipython",
    "version": 3
   },
   "file_extension": ".py",
   "mimetype": "text/x-python",
   "name": "python",
   "nbconvert_exporter": "python",
   "pygments_lexer": "ipython3",
   "version": "3.11.7"
  }
 },
 "nbformat": 4,
 "nbformat_minor": 5
}
