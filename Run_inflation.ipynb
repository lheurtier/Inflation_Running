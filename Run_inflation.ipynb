{
 "cells": [
  {
   "cell_type": "code",
   "execution_count": 1,
   "id": "51a3ef3f",
   "metadata": {},
   "outputs": [
    {
     "name": "stdout",
     "output_type": "stream",
     "text": [
      "##########################\n",
      "#     Initialisation     #\n",
      "##########################\n",
      "+ Chosing potential...\n",
      "+ Potential is user-defined\n",
      "----> Initialization was succesfull.\n",
      "##########################\n",
      "#    Finding Phi_star    #\n",
      "##########################\n",
      "+ Solving EoM: Passed\n",
      "eps_1 =  0.009180115242774194\n",
      "eps_2 =  0.018360230485548384\n",
      "eps_3 =  0.01836023048554837\n",
      "eps_4 =  3.067533610056786e-86\n",
      "ns= 0.9453076875313133  and r= 0.1459924208121537\n",
      "Total number of efolds:  55.0\n",
      "As = 5.0553761548349624e-11\n",
      "r =  0.1459924208121537\n",
      "n_s =  0.9632795390289033\n",
      "alpha_s =  -0.0006741961269649203\n",
      "beta_s =  -1.8567594425309963e-05\n"
     ]
    }
   ],
   "source": [
    "import Running as run\n",
    "\n",
    "def Vinf(phi, params):\n",
    "    mass = params[0]\n",
    "    return mass**2/2*phi**2\n",
    "\n",
    "def dVinf(phi, params):\n",
    "    mass = params[0]\n",
    "    return mass**2*phi\n",
    "\n",
    "def d2Vinf(phi, params):\n",
    "    mass = params[0]\n",
    "    return mass**2\n",
    "\n",
    "def d3Vinf(phi, params):\n",
    "    mass = params[0]\n",
    "    return 0\n",
    "\n",
    "def d4Vinf(phi, params):\n",
    "    mass = params[0]\n",
    "    return 0\n",
    "\n",
    "\n",
    "Inf_class = run.Running_V(\n",
    "                 Inflation_template=None, \n",
    "                 feature_template=None, \n",
    "                 Vi   = Vinf, \n",
    "                 dVi  = dVinf,\n",
    "                 d2Vi = d2Vinf,\n",
    "                 d3Vi = d3Vinf,\n",
    "                 d4Vi = d4Vinf, \n",
    "                 Ninf = 55, \n",
    "                 debug = True)\n",
    "\n",
    "MP = 1\n",
    "mass_test = 1e-6*MP\n",
    "\n",
    "As, r, n_s, alpha_s, beta_s = Inf_class.find_running([mass_test], False)"
   ]
  }
 ],
 "metadata": {
  "kernelspec": {
   "display_name": "base",
   "language": "python",
   "name": "python3"
  },
  "language_info": {
   "codemirror_mode": {
    "name": "ipython",
    "version": 3
   },
   "file_extension": ".py",
   "mimetype": "text/x-python",
   "name": "python",
   "nbconvert_exporter": "python",
   "pygments_lexer": "ipython3",
   "version": "3.11.7"
  }
 },
 "nbformat": 4,
 "nbformat_minor": 5
}
